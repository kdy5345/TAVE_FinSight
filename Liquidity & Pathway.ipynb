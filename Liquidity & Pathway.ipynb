{
 "cells": [
  {
   "cell_type": "markdown",
   "id": "6c17b450",
   "metadata": {},
   "source": [
    "# 거래 흐름 기반 Liquidity & Pathway 분석\n",
    "\n",
    "## 1. 개요\n",
    "본 분석의 목적은 **PaySim 시뮬레이션 금융 거래 데이터**를 활용하여 거래의 **유입·유출 구조**, **경로별 흐름**, 그리고 **현금화 속도**를 탐색하는 것이다.  \n",
    "\n",
    "이 분석은 단순히 Fraud 거래의 빈도나 비율을 파악하는 것을 넘어,  \n",
    "자금이 **어디로 흘러가고**, **어떤 경로를 거쳐 이동하며**, **얼마나 빠르게 현금화되는가**를 구조적으로 이해하는 데 초점을 둔다.  \n",
    "\n",
    "---\n",
    "\n",
    "## 2. 분석 목표\n",
    "\n",
    "1. **자금의 유입·유출 구조 (Liquidity Flow)**  \n",
    "   - 송신자(`nameOrig`)와 수신자(`nameDest`) 기준으로 자금의 유입(Inflow)과 유출(Outflow)을 계산하고, 사용자별 **순유동성(Net Liquidity)** 을 도출한다.\n",
    "\n",
    "2. **경로별 흐름 (Pathway Network)**  \n",
    "   - 거래를 **네트워크 그래프 구조**로 모델링하여 자금의 이동 경로와 Fraud 집중 경향을 분석한다.\n",
    "\n",
    "3. **현금화 속도 (Liquidity Turnover Speed)**  \n",
    "   - 동일 송신자의 연속 거래 간 시간(`step`) 간격을 이용해 평균 현금화 속도를 계산하고 Fraud 거래와 정상 거래의 차이를 비교한다.\n",
    "\n",
    "---\n",
    "\n",
    "## 3. 분석 핵심 질문\n",
    "\n",
    "| 구분 | 주요 질문 |\n",
    "|------|------------|\n",
    "| 유입·유출 구조 | 특정 사용자는 자금을 주로 보내는가, 받는가? |\n",
    "| 경로별 흐름 | Fraud 거래는 특정 경로 또는 노드에 집중되는가? |\n",
    "| 현금화 속도 | 사기 거래는 정상 거래보다 빠르게 현금화되는가? |\n",
    "\n",
    "---\n",
    "\n",
    "## 4. 기대 효과\n",
    "- Fraud 탐지 모델링 이전 단계에서 **거래 흐름의 구조적 이상 패턴**을 조기 파악  \n",
    "- **유입-유출 불균형**, **단방향 흐름**, **짧은 현금화 시간** 등의 행동적·구조적 특성을 Fraud 리스크 지표로 활용할 수 있다."
   ]
  },
  {
   "cell_type": "code",
   "execution_count": 9,
   "id": "d39fab88",
   "metadata": {},
   "outputs": [
    {
     "name": "stdout",
     "output_type": "stream",
     "text": [
      "MySQL 연결 성공\n"
     ]
    }
   ],
   "source": [
    "import pandas as pd\n",
    "import warnings\n",
    "warnings.filterwarnings('ignore')\n",
    "import pymysql\n",
    "from sqlalchemy import create_engine\n",
    "from sqlalchemy import text\n",
    "\n",
    "user = 'root'\n",
    "password = 'doyeon5345'\n",
    "host = 'localhost'\n",
    "port = 3306\n",
    "db = 'paysim'\n",
    "\n",
    "try:\n",
    "    engine = create_engine(f'mysql+pymysql://{user}:{password}@{host}:{port}/{db}')\n",
    "    print(\"MySQL 연결 성공\")\n",
    "except Exception as e:\n",
    "    print(\"연결 실패:\", e)"
   ]
  },
  {
   "cell_type": "markdown",
   "id": "23eb1b1a",
   "metadata": {},
   "source": [
    "## 1️⃣ 자금의 유입·유출 구조 분석\n",
    "\n",
    "1. **유입(Inflow)**  \n",
    "   - 각 사용자가 받은 총 금액(`SUM(amount WHERE nameDest=user)`) 계산  \n",
    "   - 자금이 얼마나 들어왔는지 파악\n",
    "\n",
    "2. **유출(Outflow)**  \n",
    "   - 각 사용자가 보낸 총 금액(`SUM(amount WHERE nameOrig=user)`) 계산  \n",
    "   - 자금이 얼마나 빠져나갔는지 확인\n",
    "\n",
    "3. **순유동성(Net Liquidity)**  \n",
    "   - `Inflow - Outflow`  \n",
    "   - 양수면 자금이 유입된 상태, 음수면 자금이 유출된 상태\n",
    "\n",
    "4. **분석 포인트**  \n",
    "   - **Inflow↑, Outflow=0** → 자금 종착지(수신 허브)  \n",
    "   - **Inflow=0, Outflow↑** → 송금형 사기 출발점  \n",
    "   - **Inflow≈Outflow** → 정상 거래자\n"
   ]
  },
  {
   "cell_type": "code",
   "execution_count": null,
   "id": "a89a16c3",
   "metadata": {},
   "outputs": [
    {
     "data": {
      "text/html": [
       "<div>\n",
       "<style scoped>\n",
       "    .dataframe tbody tr th:only-of-type {\n",
       "        vertical-align: middle;\n",
       "    }\n",
       "\n",
       "    .dataframe tbody tr th {\n",
       "        vertical-align: top;\n",
       "    }\n",
       "\n",
       "    .dataframe thead th {\n",
       "        text-align: right;\n",
       "    }\n",
       "</style>\n",
       "<table border=\"1\" class=\"dataframe\">\n",
       "  <thead>\n",
       "    <tr style=\"text-align: right;\">\n",
       "      <th></th>\n",
       "      <th>user_id</th>\n",
       "      <th>total_inflow</th>\n",
       "      <th>inflow_count</th>\n",
       "      <th>total_outflow</th>\n",
       "      <th>outflow_count</th>\n",
       "      <th>net_liquidity</th>\n",
       "    </tr>\n",
       "  </thead>\n",
       "  <tbody>\n",
       "    <tr>\n",
       "      <th>23940</th>\n",
       "      <td>C12897728</td>\n",
       "      <td>6.857061e+07</td>\n",
       "      <td>5.0</td>\n",
       "      <td>0.0</td>\n",
       "      <td>0.0</td>\n",
       "      <td>6.857061e+07</td>\n",
       "    </tr>\n",
       "    <tr>\n",
       "      <th>99677</th>\n",
       "      <td>C274054575</td>\n",
       "      <td>5.524987e+07</td>\n",
       "      <td>4.0</td>\n",
       "      <td>0.0</td>\n",
       "      <td>0.0</td>\n",
       "      <td>5.524987e+07</td>\n",
       "    </tr>\n",
       "    <tr>\n",
       "      <th>92729</th>\n",
       "      <td>C2121530467</td>\n",
       "      <td>4.991770e+07</td>\n",
       "      <td>5.0</td>\n",
       "      <td>0.0</td>\n",
       "      <td>0.0</td>\n",
       "      <td>4.991770e+07</td>\n",
       "    </tr>\n",
       "    <tr>\n",
       "      <th>10658</th>\n",
       "      <td>C1128848873</td>\n",
       "      <td>4.964732e+07</td>\n",
       "      <td>5.0</td>\n",
       "      <td>0.0</td>\n",
       "      <td>0.0</td>\n",
       "      <td>4.964732e+07</td>\n",
       "    </tr>\n",
       "    <tr>\n",
       "      <th>43138</th>\n",
       "      <td>C1521873113</td>\n",
       "      <td>4.281815e+07</td>\n",
       "      <td>5.0</td>\n",
       "      <td>0.0</td>\n",
       "      <td>0.0</td>\n",
       "      <td>4.281815e+07</td>\n",
       "    </tr>\n",
       "    <tr>\n",
       "      <th>72657</th>\n",
       "      <td>C1878381014</td>\n",
       "      <td>4.279006e+07</td>\n",
       "      <td>4.0</td>\n",
       "      <td>0.0</td>\n",
       "      <td>0.0</td>\n",
       "      <td>4.279006e+07</td>\n",
       "    </tr>\n",
       "    <tr>\n",
       "      <th>51905</th>\n",
       "      <td>C1629025878</td>\n",
       "      <td>3.962709e+07</td>\n",
       "      <td>5.0</td>\n",
       "      <td>0.0</td>\n",
       "      <td>0.0</td>\n",
       "      <td>3.962709e+07</td>\n",
       "    </tr>\n",
       "    <tr>\n",
       "      <th>137087</th>\n",
       "      <td>C729866516</td>\n",
       "      <td>3.933433e+07</td>\n",
       "      <td>5.0</td>\n",
       "      <td>0.0</td>\n",
       "      <td>0.0</td>\n",
       "      <td>3.933433e+07</td>\n",
       "    </tr>\n",
       "    <tr>\n",
       "      <th>42381</th>\n",
       "      <td>C1512993148</td>\n",
       "      <td>3.697390e+07</td>\n",
       "      <td>1.0</td>\n",
       "      <td>0.0</td>\n",
       "      <td>0.0</td>\n",
       "      <td>3.697390e+07</td>\n",
       "    </tr>\n",
       "    <tr>\n",
       "      <th>30501</th>\n",
       "      <td>C1368361600</td>\n",
       "      <td>3.655061e+07</td>\n",
       "      <td>1.0</td>\n",
       "      <td>0.0</td>\n",
       "      <td>0.0</td>\n",
       "      <td>3.655061e+07</td>\n",
       "    </tr>\n",
       "  </tbody>\n",
       "</table>\n",
       "</div>"
      ],
      "text/plain": [
       "            user_id  total_inflow  inflow_count  total_outflow  outflow_count  \\\n",
       "23940     C12897728  6.857061e+07           5.0            0.0            0.0   \n",
       "99677    C274054575  5.524987e+07           4.0            0.0            0.0   \n",
       "92729   C2121530467  4.991770e+07           5.0            0.0            0.0   \n",
       "10658   C1128848873  4.964732e+07           5.0            0.0            0.0   \n",
       "43138   C1521873113  4.281815e+07           5.0            0.0            0.0   \n",
       "72657   C1878381014  4.279006e+07           4.0            0.0            0.0   \n",
       "51905   C1629025878  3.962709e+07           5.0            0.0            0.0   \n",
       "137087   C729866516  3.933433e+07           5.0            0.0            0.0   \n",
       "42381   C1512993148  3.697390e+07           1.0            0.0            0.0   \n",
       "30501   C1368361600  3.655061e+07           1.0            0.0            0.0   \n",
       "\n",
       "        net_liquidity  \n",
       "23940    6.857061e+07  \n",
       "99677    5.524987e+07  \n",
       "92729    4.991770e+07  \n",
       "10658    4.964732e+07  \n",
       "43138    4.281815e+07  \n",
       "72657    4.279006e+07  \n",
       "51905    3.962709e+07  \n",
       "137087   3.933433e+07  \n",
       "42381    3.697390e+07  \n",
       "30501    3.655061e+07  "
      ]
     },
     "execution_count": 10,
     "metadata": {},
     "output_type": "execute_result"
    }
   ],
   "source": [
    "# 1. 송신자 기준 유출 금액 (Outflow)\n",
    "query_outflow = \"\"\"\n",
    "SELECT nameOrig AS user_id, \n",
    "       SUM(amount) AS total_outflow,\n",
    "       COUNT(*) AS outflow_count\n",
    "FROM paysim\n",
    "GROUP BY nameOrig;\n",
    "\"\"\"\n",
    "df_outflow = pd.read_sql(query_outflow, engine)\n",
    "\n",
    "# 2. 수신자 기준 유입 금액 (Inflow)\n",
    "query_inflow = \"\"\"\n",
    "SELECT nameDest AS user_id, \n",
    "       SUM(amount) AS total_inflow,\n",
    "       COUNT(*) AS inflow_count\n",
    "FROM paysim\n",
    "GROUP BY nameDest;\n",
    "\"\"\"\n",
    "df_inflow = pd.read_sql(query_inflow, engine)\n",
    "\n",
    "# 3. 유입/유출 데이터 병합 및 순유동성(Net Liquidity) 계산\n",
    "df_liquidity = pd.merge(df_inflow, df_outflow, how=\"outer\", on=\"user_id\").fillna(0)\n",
    "df_liquidity[\"net_liquidity\"] = df_liquidity[\"total_inflow\"] - df_liquidity[\"total_outflow\"]\n",
    "\n",
    "# 4. 순유동성 상위 사용자(가장 많은 자금을 받은 계정) 확인\n",
    "df_liquidity_sorted = df_liquidity.sort_values(\"net_liquidity\", ascending=False)\n",
    "df_liquidity_sorted.head(10)\n"
   ]
  },
  {
   "cell_type": "markdown",
   "id": "fde57b28",
   "metadata": {},
   "source": [
    "### 상위 유입 계정 특성\n",
    "- 상위 계정들은 **유입(Inflow)** 은 많고 **유출(Outflow)** 은 전혀 없음.  \n",
    "- 자금을 받기만 하고 다시 송금하지 않는 형태로, **자금의 종착지 또는 현금화 허브**로 작동할 가능성이 높음."
   ]
  },
  {
   "cell_type": "code",
   "execution_count": 11,
   "id": "9e665c0c",
   "metadata": {},
   "outputs": [
    {
     "data": {
      "text/html": [
       "<div>\n",
       "<style scoped>\n",
       "    .dataframe tbody tr th:only-of-type {\n",
       "        vertical-align: middle;\n",
       "    }\n",
       "\n",
       "    .dataframe tbody tr th {\n",
       "        vertical-align: top;\n",
       "    }\n",
       "\n",
       "    .dataframe thead th {\n",
       "        text-align: right;\n",
       "    }\n",
       "</style>\n",
       "<table border=\"1\" class=\"dataframe\">\n",
       "  <thead>\n",
       "    <tr style=\"text-align: right;\">\n",
       "      <th></th>\n",
       "      <th>total_inflow</th>\n",
       "      <th>total_outflow</th>\n",
       "      <th>net_liquidity</th>\n",
       "    </tr>\n",
       "    <tr>\n",
       "      <th>isFraud</th>\n",
       "      <th></th>\n",
       "      <th></th>\n",
       "      <th></th>\n",
       "    </tr>\n",
       "  </thead>\n",
       "  <tbody>\n",
       "    <tr>\n",
       "      <th>0.0</th>\n",
       "      <td>107803.07</td>\n",
       "      <td>106674.66</td>\n",
       "      <td>1128.42</td>\n",
       "    </tr>\n",
       "    <tr>\n",
       "      <th>1.0</th>\n",
       "      <td>0.00</td>\n",
       "      <td>1542736.85</td>\n",
       "      <td>-1542736.85</td>\n",
       "    </tr>\n",
       "  </tbody>\n",
       "</table>\n",
       "</div>"
      ],
      "text/plain": [
       "         total_inflow  total_outflow  net_liquidity\n",
       "isFraud                                            \n",
       "0.0         107803.07      106674.66        1128.42\n",
       "1.0              0.00     1542736.85    -1542736.85"
      ]
     },
     "execution_count": 11,
     "metadata": {},
     "output_type": "execute_result"
    }
   ],
   "source": [
    "query_fraud_liq = \"\"\"\n",
    "SELECT t.nameOrig AS user_id, \n",
    "       MAX(t.isFraud) AS isFraud, \n",
    "       SUM(t.amount) AS total_tx_amount\n",
    "FROM paysim t\n",
    "GROUP BY t.nameOrig;\n",
    "\"\"\"\n",
    "df_fraud_flag = pd.read_sql(query_fraud_liq, engine)\n",
    "\n",
    "# 병합: Fraud 플래그 + 유입/유출 구조\n",
    "df_liquidity_fraud = pd.merge(df_liquidity, df_fraud_flag, how=\"left\", on=\"user_id\").fillna(0)\n",
    "\n",
    "# Fraud vs Normal의 평균 순유동성 비교\n",
    "df_liquidity_fraud.groupby(\"isFraud\")[[\"total_inflow\", \"total_outflow\", \"net_liquidity\"]].mean().round(2)\n"
   ]
  },
  {
   "cell_type": "markdown",
   "id": "32027047",
   "metadata": {},
   "source": [
    "### Fraud vs Normal 비교\n",
    "- 정상 거래는 유입과 유출이 거의 균형적.  \n",
    "- Fraud 거래는 **유입 없이 대규모 유출**이 발생 → **자금 탈취·현금화 패턴**."
   ]
  },
  {
   "cell_type": "code",
   "execution_count": 12,
   "id": "02899c5e",
   "metadata": {},
   "outputs": [
    {
     "data": {
      "image/png": "[encoded data removed]",
      "text/plain": [
       "<Figure size 600x500 with 1 Axes>"
      ]
     },
     "metadata": {},
     "output_type": "display_data"
    }
   ],
   "source": [
    "import matplotlib.pyplot as plt\n",
    "import matplotlib as mpl\n",
    "import seaborn as sns\n",
    "plt.rcParams['font.family'] = 'AppleGothic'   \n",
    "mpl.rcParams['axes.unicode_minus'] = False\n",
    "\n",
    "plt.figure(figsize=(6,5))\n",
    "sns.scatterplot(data=df_liquidity.sample(5000), x=\"total_outflow\", y=\"total_inflow\", alpha=0.6)\n",
    "plt.title(\"사용자별 유입(Inflow) vs 유출(Outflow) 구조\")\n",
    "plt.xlabel(\"총 유출 금액\")\n",
    "plt.ylabel(\"총 유입 금액\")\n",
    "plt.show()"
   ]
  },
  {
   "cell_type": "markdown",
   "id": "20984b62",
   "metadata": {},
   "source": [
    "### 유입 vs 유출 구조 분포\n",
    "- 대부분의 사용자가 **한 방향 거래만 수행**(유입만 또는 유출만 존재).  \n",
    "- 거래 네트워크가 **입금자 → 수신자 → 종착 계정** 형태의 **단방향 자금 흐름 구조**로 작동하고 있음.\n",
    "\n",
    "### ✅ 자금 유입/유출 구조 분석 결론\n",
    "Fraud 거래는 **자금을 빼내는 순유출형 계정** 중심으로 발생하며, 이 계정들이 자금 흐름의 **마지막 단계(현금화 지점)** 역할을 하는 것으로 보인다."
   ]
  },
  {
   "cell_type": "markdown",
   "id": "83dc1bfa",
   "metadata": {},
   "source": [
    "## 2️⃣ 경로별 자금 흐름(Pathway) 분석\n",
    "\n",
    "### 분석 단계\n",
    "1. **네트워크 구성**  \n",
    "   - 송신자(`nameOrig`)와 수신자(`nameDest`)를 노드로, 거래(`amount`, `isFraud`)를 엣지로 연결  \n",
    "   - 방향성 그래프(`DiGraph`)를 통해 자금 이동 구조 모델링  \n",
    "\n",
    "2. **자금 집중 경로 탐색**  \n",
    "   - 여러 송신자 → 동일 수신자로 몰리는 구조 확인  \n",
    "   - 자금이 모이는 허브형 계정 식별  \n",
    "\n",
    "3. **단방향 흐름 분석**  \n",
    "   - 송금전용·수신전용·양방향 계정 구분  \n",
    "   - 자금의 순환 여부 및 흐름 방향 파악  \n",
    "\n",
    "4. **이동 단계 분석**  \n",
    "   - 송신자에서 수신자까지의 평균 이동 단계 계산  \n",
    "   - 단발성 이동 vs 다단계 이동 구조 비교  \n",
    "\n",
    "5. **Fraud 경로 비교**  \n",
    "   - 정상 네트워크 대비 Fraud 네트워크의 연결도·집중도 비교  \n",
    "\n",
    "### 분석 포인트\n",
    "- **자금 집중 경로**: 여러 송신자의 거래가 한 수신자에게 몰리는가  \n",
    "- **단방향 흐름**: Fraud 거래는 일방향 송금형 구조를 보이는가  \n",
    "- **이동 단계**: Fraud 거래는 짧고 단순한 경로를 가지는가  \n",
    "- **Fraud 구조 차이**: Fraud 네트워크는 제한된 계정 간 집중적 연결 구조를 보이는가\n"
   ]
  },
  {
   "cell_type": "code",
   "execution_count": 34,
   "id": "7751b03a",
   "metadata": {},
   "outputs": [
    {
     "name": "stdout",
     "output_type": "stream",
     "text": [
      "데이터 로드 완료: (50303, 5)\n",
      "노드 수: 84053 | 엣지 수: 43683\n"
     ]
    }
   ],
   "source": [
    "import networkx as nx\n",
    "\n",
    "# 거래 데이터 로드 (자금 이동이 있는 거래만)\n",
    "query = \"\"\"\n",
    "SELECT nameOrig, nameDest, amount, isFraud, type\n",
    "FROM paysim\n",
    "WHERE type IN ('TRANSFER', 'CASH_OUT');\n",
    "\"\"\"\n",
    "df_pathway = pd.read_sql(query, engine)\n",
    "print(\"데이터 로드 완료:\", df_pathway.shape)\n",
    "\n",
    "# 네트워크 구성\n",
    "G = nx.from_pandas_edgelist(\n",
    "    df_pathway,\n",
    "    source=\"nameOrig\",\n",
    "    target=\"nameDest\",\n",
    "    edge_attr=[\"amount\", \"isFraud\", \"type\"],\n",
    "    create_using=nx.DiGraph()\n",
    ")\n",
    "\n",
    "print(\"노드 수:\", G.number_of_nodes(), \"| 엣지 수:\", G.number_of_edges())"
   ]
  },
  {
   "cell_type": "markdown",
   "id": "edc494a0",
   "metadata": {},
   "source": [
    "### 네트워크 개요\n",
    "- **데이터 규모:** (50,303건, 5컬럼)  \n",
    "- **노드 수:** 84,053  \n",
    "- **엣지 수:** 43,683  "
   ]
  },
  {
   "cell_type": "code",
   "execution_count": null,
   "id": "8d510c3b",
   "metadata": {},
   "outputs": [
    {
     "name": "stdout",
     "output_type": "stream",
     "text": [
      "\n",
      "[자금 유입 허브 Top 10]\n",
      "              node  in_degree\n",
      "3948   C1085553281          5\n",
      "12610  C1009406898          5\n",
      "33483   C681078805          4\n",
      "4244   C1269097316          4\n",
      "20407  C1013700132          4\n",
      "12647  C1040847151          4\n",
      "21340  C1495761010          4\n",
      "24847   C374195815          4\n",
      "515    C1657041838          4\n",
      "29955    C70895366          4\n"
     ]
    }
   ],
   "source": [
    "# 자금 집중 경로 탐색\n",
    "in_deg = pd.DataFrame(G.in_degree(), columns=[\"node\", \"in_degree\"]).sort_values(by=\"in_degree\", ascending=False)\n",
    "print(\"\\n[자금 유입 허브 Top 10]\")\n",
    "print(in_deg.head(10))"
   ]
  },
  {
   "cell_type": "markdown",
   "id": "1af9db28",
   "metadata": {},
   "source": [
    "### 자금 유입 허브 탐색\n",
    "- In-degree 최대값이 5에 불과하다는 점에서, 자금이 한두 곳으로 과도하게 집중되는 형태(=집금형 구조)는 아님. 즉, 일부 계정이 여러 번 입금을 받긴 했지만 허브로 기능할 만큼의 집중도는 낮음.\n",
    "- 거래가 여러 계정을 거쳐 모이기보다는, 각 계정 간의 개별적 단발성 송금이 주를 이룸.\n",
    "- 따라서 이번 데이터에서는 명확한 유입 허브(중심 계좌) 는 나타나지 않으며, 거래 네트워크가 전반적으로 분산적 구조를 가진 것으로 해석됨."
   ]
  },
  {
   "cell_type": "code",
   "execution_count": 36,
   "id": "f09fb25b",
   "metadata": {},
   "outputs": [
    {
     "name": "stdout",
     "output_type": "stream",
     "text": [
      "\n",
      "[계정 거래 방향 유형 분포]\n",
      "flow_type\n",
      "송금전용    43683\n",
      "수신전용    40370\n",
      "Name: count, dtype: int64\n"
     ]
    }
   ],
   "source": [
    "# 단방향 흐름 탐색 (송금전용 / 수신전용 / 양방향)\n",
    "degree_df = pd.DataFrame({\n",
    "    \"node\": list(G.nodes()),\n",
    "    \"in_degree\": [G.in_degree(n) for n in G.nodes()],\n",
    "    \"out_degree\": [G.out_degree(n) for n in G.nodes()]\n",
    "})\n",
    "degree_df[\"flow_type\"] = degree_df.apply(\n",
    "    lambda x: \"송금전용\" if x.out_degree > 0 and x.in_degree == 0 else\n",
    "              \"수신전용\" if x.in_degree > 0 and x.out_degree == 0 else\n",
    "              \"양방향\", axis=1\n",
    ")\n",
    "print(\"\\n[계정 거래 방향 유형 분포]\")\n",
    "print(degree_df[\"flow_type\"].value_counts())"
   ]
  },
  {
   "cell_type": "markdown",
   "id": "d5f5a441",
   "metadata": {},
   "source": [
    "### 단방향 흐름 분석\n",
    "- 대부분의 계정이 **송금전용 또는 수신전용** 형태로 거래에 참여하며, 양방향 거래(송금·수신 모두 수행)는 매우 드묾.  \n",
    "- 즉, 네트워크는 **순환 구조보다는 단방향성** 이 강함. 이러한 패턴은 **사기형 송금 네트워크**의 전형적인 특성과 유사함."
   ]
  },
  {
   "cell_type": "code",
   "execution_count": 37,
   "id": "5b081ede",
   "metadata": {},
   "outputs": [
    {
     "name": "stdout",
     "output_type": "stream",
     "text": [
      "\n",
      "평균 자금 이동 단계 수: 1.00\n",
      "최대 이동 단계 수: 1\n"
     ]
    }
   ],
   "source": [
    "# 이동 단계 분석 (경로 길이 계산)\n",
    "path_lengths = []\n",
    "for component in nx.weakly_connected_components(G):\n",
    "    subgraph = G.subgraph(component)\n",
    "    for src, target in nx.edge_dfs(subgraph):\n",
    "        try:\n",
    "            length = nx.shortest_path_length(subgraph, src, target)\n",
    "            path_lengths.append(length)\n",
    "        except nx.NetworkXNoPath:\n",
    "            continue\n",
    "\n",
    "df_path_len = pd.DataFrame(path_lengths, columns=[\"path_length\"])\n",
    "print(f\"\\n평균 자금 이동 단계 수: {df_path_len['path_length'].mean():.2f}\")\n",
    "print(f\"최대 이동 단계 수: {df_path_len['path_length'].max()}\")\n"
   ]
  },
  {
   "cell_type": "markdown",
   "id": "810d9d8f",
   "metadata": {},
   "source": [
    "### 이동 단계 분석\n",
    "- **평균 자금 이동 단계 수:** 1.00  \n",
    "- **최대 이동 단계 수:** 1  \n",
    "→ 모든 거래가 **직접 송금(1단계)** 형태로만 발생.  \n",
    "→ 자금이 여러 단계를 거치지 않고 **즉시 종착지로 도달**하는 구조로, 다단계 거래나 중개 노드는 거의 존재하지 않음.  \n",
    "→ 이는 **간단한 송금 경로**를 통해 빠른 현금화가 이루어질 가능성을 의미함."
   ]
  },
  {
   "cell_type": "code",
   "execution_count": 38,
   "id": "12578ade",
   "metadata": {},
   "outputs": [
    {
     "name": "stdout",
     "output_type": "stream",
     "text": [
      "\n",
      "[Fraud 네트워크 요약]\n",
      "노드 수: 282\n",
      "엣지 수: 141\n",
      "\n",
      "[Fraud 자금 집중 허브 Top 5]\n",
      "            node  in_degree\n",
      "141  C1100722756          1\n",
      "165  C1137450827          1\n",
      "147  C1510391871          1\n",
      "149  C2017082627          1\n",
      "151   C671509828          1\n",
      "\n",
      "Fraud 평균 경로 길이: 1.00\n",
      "Fraud 최대 경로 길이: 1\n"
     ]
    }
   ],
   "source": [
    "# Fraud 경로 집중도 비교\n",
    "fraud_edges = df_pathway[df_pathway[\"isFraud\"] == 1][[\"nameOrig\", \"nameDest\", \"amount\"]]\n",
    "G_fraud = nx.from_pandas_edgelist(\n",
    "    fraud_edges,\n",
    "    source=\"nameOrig\",\n",
    "    target=\"nameDest\",\n",
    "    edge_attr=\"amount\",\n",
    "    create_using=nx.DiGraph()\n",
    ")\n",
    "\n",
    "print(\"\\n[Fraud 네트워크 요약]\")\n",
    "print(\"노드 수:\", G_fraud.number_of_nodes())\n",
    "print(\"엣지 수:\", G_fraud.number_of_edges())\n",
    "\n",
    "# Fraud 경로 집중도 계산\n",
    "fraud_in = pd.DataFrame(G_fraud.in_degree(), columns=[\"node\", \"in_degree\"])\n",
    "fraud_hubs = fraud_in.sort_values(by=\"in_degree\", ascending=False).head(5)\n",
    "print(\"\\n[Fraud 자금 집중 허브 Top 5]\")\n",
    "print(fraud_hubs)\n",
    "\n",
    "# Fraud vs Normal 평균 경로 길이 비교\n",
    "fraud_lengths = []\n",
    "for component in nx.weakly_connected_components(G_fraud):\n",
    "    subgraph = G_fraud.subgraph(component)\n",
    "    for src, target in nx.edge_dfs(subgraph):\n",
    "        try:\n",
    "            fraud_lengths.append(nx.shortest_path_length(subgraph, src, target))\n",
    "        except nx.NetworkXNoPath:\n",
    "            continue\n",
    "\n",
    "print(f\"\\nFraud 평균 경로 길이: {pd.Series(fraud_lengths).mean():.2f}\")\n",
    "print(f\"Fraud 최대 경로 길이: {pd.Series(fraud_lengths).max()}\")"
   ]
  },
  {
   "cell_type": "markdown",
   "id": "3b8ca3c1",
   "metadata": {},
   "source": [
    "### Fraud 네트워크 비교\n",
    "- Fraud 네트워크는 전체 대비 규모가 매우 작고 단순한 구조를 보임.\n",
    "- 대부분의 거래가 단일 송신자 → 단일 수신자 형태로, 복잡한 경로 없이 1단계(1-hop) 내에서 완료됨.\n",
    "- 따라서 사기 거래는 짧고 직접적인 송금 중심 구조로, 자금이 여러 단계를 거치지 않고 한 번에 이동하는 특성이 뚜렷함.\n",
    "\n",
    "### ✅ 결론\n",
    "- 전체 네트워크와 Fraud 네트워크 모두 **단방향적이고 짧은 경로 중심 구조**를 가짐.  \n",
    "- 따라서 사기 거래는 복잡한 경로를 거치지 않고 한 번의 송금으로 자금이 이동·종료되는 특성이 두드러짐.\n",
    "- 이런 특징은 짧은 경로, 낮은 연결도, 분산된 송금 흐름으로 요약되며, 복잡한 자금 세탁보다는 **단기적·직접적인 이익 회수형 사기 구조**로 해석됨."
   ]
  },
  {
   "cell_type": "markdown",
   "id": "112088f6",
   "metadata": {},
   "source": [
    "## 3️⃣ 현금화 속도 분석\n",
    "\n",
    "1. 개요\n",
    "   - 사용자가 **자금을 받은 후 다시 송금하기까지 걸린 평균 시간**  \n",
    "   - Fraud 거래는 **짧은 간격으로 빠르게 현금화되는 경향**을 보임  \n",
    "\n",
    "2. 계산 방식 \n",
    "   - 동일 송신자(`nameOrig`) 기준으로 거래 시간(`step`) 정렬  \n",
    "   - 연속 거래 간 시간 차이(Δtime) 계산  \n",
    "   - 사용자별 평균 거래 간격을 구해 **평균 현금화 속도(avg_turnover_time)** 도출  \n",
    "   - Fraud 여부(`isFraud`)별 평균 비교를 통해 차이 확인  \n",
    "\n",
    "3. 해석\n",
    "   - 평균 현금화 시간이 **짧을수록** 자금 이동이 빠른 구조  \n",
    "   - Fraud 거래는 대부분 **자금 유입 직후 송금 또는 인출**이 발생  \n",
    "   - 정상 거래는 거래 간격이 길거나 불규칙하여 **일반적 활동 패턴**을 보임  \n",
    "\n",
    "4. 분석 포인트  \n",
    "   - 현금화 속도 ↓ → **자금세탁·탈취형 Fraud 가능성↑**  \n",
    "   - 현금화 속도 ↑ → **일반 사용자 활동 패턴**  "
   ]
  },
  {
   "cell_type": "code",
   "execution_count": 22,
   "id": "0cf46553",
   "metadata": {},
   "outputs": [
    {
     "name": "stdout",
     "output_type": "stream",
     "text": [
      "데이터 로드 완료: (114957, 3)\n",
      "   isFraud  mean_turnover_time\n",
      "0        0           24.019038\n",
      "1        1           24.000000\n"
     ]
    }
   ],
   "source": [
    "# 1. 거래 데이터 불러오기\n",
    "query = \"\"\"\n",
    "SELECT nameOrig, step, isFraud\n",
    "FROM paysim\n",
    "WHERE amount > 0\n",
    "ORDER BY nameOrig, step;\n",
    "\"\"\"\n",
    "df_turnover = pd.read_sql(query, engine)\n",
    "\n",
    "print(\"데이터 로드 완료:\", df_turnover.shape)\n",
    "\n",
    "# 2. 사용자별 연속 거래 간 시간 차이 계산\n",
    "df_turnover[\"time_diff\"] = df_turnover.groupby(\"nameOrig\")[\"step\"].diff()\n",
    "\n",
    "# 3. 사용자별 평균 현금화 속도 계산\n",
    "user_turnover = (\n",
    "    df_turnover.groupby(\"nameOrig\")[\"time_diff\"]\n",
    "    .mean()\n",
    "    .reset_index(name=\"avg_turnover_time\")\n",
    ")\n",
    "\n",
    "# 4. Fraud 여부와 매핑\n",
    "fraud_map = df_turnover.groupby(\"nameOrig\")[\"isFraud\"].max().reset_index()\n",
    "user_turnover = pd.merge(user_turnover, fraud_map, on=\"nameOrig\", how=\"left\")\n",
    "\n",
    "# 5. Fraud vs Normal 평균 비교\n",
    "result = (\n",
    "    user_turnover.groupby(\"isFraud\")[\"avg_turnover_time\"]\n",
    "    .mean()\n",
    "    .reset_index()\n",
    "    .rename(columns={\"avg_turnover_time\": \"mean_turnover_time\"})\n",
    ")\n",
    "print(result)"
   ]
  },
  {
   "cell_type": "code",
   "execution_count": null,
   "id": "87bb63a7",
   "metadata": {},
   "outputs": [
    {
     "data": {
      "image/png": "[encoded data removed]",
      "text/plain": [
       "<Figure size 600x400 with 1 Axes>"
      ]
     },
     "metadata": {},
     "output_type": "display_data"
    }
   ],
   "source": [
    "# 평균 기준 요약 시각화\n",
    "summary_turnover = user_turnover.groupby(\"isFraud\")[\"avg_turnover_time\"].agg([\"mean\", \"median\", \"count\"]).reset_index()\n",
    "\n",
    "plt.figure(figsize=(6,4))\n",
    "sns.barplot(\n",
    "    data=summary_turnover,\n",
    "    x=\"isFraud\",\n",
    "    y=\"mean\",\n",
    "    palette=\"coolwarm\"\n",
    ")\n",
    "\n",
    "plt.title(\"Fraud vs Normal 평균 현금화 속도 비교\", fontsize=12)\n",
    "plt.xlabel(\"거래 구분 (0=정상, 1=사기)\")\n",
    "plt.ylabel(\"평균 현금화 속도 (거래 간격)\")\n",
    "plt.tight_layout()\n",
    "plt.show()"
   ]
  },
  {
   "cell_type": "markdown",
   "id": "85d3dfe0",
   "metadata": {},
   "source": [
    "### 현금화 속도 분석 결과\n",
    "- 정상 거래와 사기 거래의 평균 현금화 속도는 **거의 동일(약 24단계)** 하게 나타남.  \n",
    "- 즉, 사기 거래가 **더 빠르게 현금화된다거나, 지연된다**는 뚜렷한 패턴은 관찰되지 않음.  \n",
    "- 이는 **PaySim 데이터셋의 시간 단위(step)** 가 하루 단위가 아닌 **시뮬레이션 시퀀스 단위**로 설계되어 있어, 실제 금융거래의 시간 차이를 반영하지 못한 결과로 해석됨.\n",
    "\n",
    "### ✅ 결론  \n",
    "- **현금화 속도는 Paysim 데이터셋의 Fraud 탐지에 있어 결정적인 변수로 작용하지 않는다.**  \n",
    "- 대신 자금의 **유입·유출 구조**나 **경로 집중도(Pathway Pattern)** 와 결합해 **복합적 이상 패턴 탐지(Structural Anomaly Detection)** 방향으로 활용하는 것이 바람직하다."
   ]
  }
 ],
 "metadata": {
  "kernelspec": {
   "display_name": "base",
   "language": "python",
   "name": "python3"
  },
  "language_info": {
   "codemirror_mode": {
    "name": "ipython",
    "version": 3
   },
   "file_extension": ".py",
   "mimetype": "text/x-python",
   "name": "python",
   "nbconvert_exporter": "python",
   "pygments_lexer": "ipython3",
   "version": "3.12.7"
  }
 },
 "nbformat": 4,
 "nbformat_minor": 5
}
