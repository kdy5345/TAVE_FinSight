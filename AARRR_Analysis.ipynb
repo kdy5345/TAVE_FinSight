{
 "cells": [
  {
   "cell_type": "markdown",
   "id": "0c1b4f77",
   "metadata": {},
   "source": [
    "# AARRR 프레임워크\n",
    "\n",
    "## AARRR이란?\n",
    "AARRR은 미국 스타트업 액셀러레이터 **500 Startups**의 창립자  \n",
    "데이브 맥클루어(Dave McClure)가 고안한 **마케팅 퍼널 분석 프레임워크**이다.  \n",
    "\n",
    "고객의 **라이프사이클을 다섯 단계**로 나누어, 각 단계별로 고객 행동을 분석하고  \n",
    "문제점을 관리할 수 있도록 설계되었다.  \n",
    "\n",
    "이 다섯 단계의 앞 글자를 따서 **AARRR**이라고 부르며,  \n",
    "스타트업 성장 지표를 정의하는 대표적인 방법론으로 활용된다.\n",
    "\n",
    "---\n",
    "\n",
    "## 단계별 설명\n",
    "\n",
    "### 1. Acquisition (유입/획득)\n",
    "- **의미**: 고객이 웹/앱으로 처음 유입되는 단계  \n",
    "- **분석 포인트**  \n",
    "  - 가장 많이 유입되는 채널은 어디인가? (largest-volume #)  \n",
    "  - 가장 저렴한 채널은 어디인가? (lowest-cost $)  \n",
    "  - 가장 효과가 좋은 채널은 어디인가? (best-performing %)  \n",
    "- **대표 지표**  \n",
    "  - DAU, MAU, 신규 유저 수  \n",
    "  - CAC (Customer Acquisition Cost)  \n",
    "  - LTV (Life Time Value)  \n",
    "\n",
    "---\n",
    "\n",
    "### 2. Activation (활성화)\n",
    "- **의미**: 고객이 서비스에서 첫 번째 “행복한 경험”을 하는 단계  \n",
    "- **사례**:  \n",
    "  - 페이스북 → 일정 수 이상의 포스트 열람, 좋아요, 댓글  \n",
    "  - 드롭박스 → 첫 파일 업로드  \n",
    "- **분석 포인트**  \n",
    "  - 랜딩 페이지 성능 검증  \n",
    "  - AB 테스트를 통한 빠른 반복 개선  \n",
    "- **대표 지표**  \n",
    "  - Bounce Rate (이탈률)  \n",
    "  - PageView, 평균 PV  \n",
    "  - 평균 체류 시간 (Duration Time)  \n",
    "  - Activation Rate (회원가입 후 핵심 행동 도달 비율)  \n",
    "\n",
    "---\n",
    "\n",
    "### 3. Retention (유지)\n",
    "- **의미**: 고객이 재방문하거나 꾸준히 서비스를 사용하는지 측정  \n",
    "- **핵심 전략**  \n",
    "  - 메일링, 메시지, 푸시알림 등 리텐션 마케팅  \n",
    "  - 세그먼트별 리텐션 비교  \n",
    "- **대표 지표**  \n",
    "  - Retention Rate, Churn Rate (이탈률)  \n",
    "  - 평균 재방문 주기  \n",
    "  - DAU/WAU/MAU 비율 (Stickiness)  \n",
    "  - Cohort Analysis  \n",
    "\n",
    "---\n",
    "\n",
    "### 4. Referral (추천/바이럴)\n",
    "- **의미**: 기존 고객이 다른 고객을 유입시키는 단계  \n",
    "- **조건**: 서비스 품질이 확보되어야 긍정적 바이럴 효과 발생  \n",
    "- **핵심 전략**  \n",
    "  - 추천 코드, 친구 초대 프로그램  \n",
    "  - SNS 공유 기능 활성화  \n",
    "- **대표 지표**  \n",
    "  - SNS Share Rate  \n",
    "  - Referral Conversion Rate  \n",
    "  - 사용자 언급량 (댓글, 리뷰)  \n",
    "  - NPS (Net Promoter Score)  \n",
    "\n",
    "---\n",
    "\n",
    "### 5. Revenue (수익)\n",
    "- **의미**: 고객의 활동이 매출로 이어지는 단계  \n",
    "- **대표 지표**  \n",
    "  - ATV (Average Transaction Value, 평균 거래액)  \n",
    "  - IPT (Items Per Transaction, 거래당 상품 수)  \n",
    "  - ARPU (Average Revenue Per User)  \n",
    "  - ARPPU (Average Revenue Per Paying User)  \n",
    "  - Conversion Rate  \n",
    "\n",
    "---\n",
    "\n",
    "## 요약\n",
    "AARRR은 **Acquisition → Activation → Retention → Referral → Revenue**  \n",
    "다섯 단계를 통해 고객 행동을 추적하고,  \n",
    "스타트업이 성장 병목을 분석·개선하는 데 활용되는 대표적인 **그로스 해킹 프레임워크**이다.\n"
   ]
  },
  {
   "cell_type": "markdown",
   "id": "9eff8a03",
   "metadata": {},
   "source": [
    "# PaySim 데이터셋 Fraud 탐지 관점의 AARRR 적용\n",
    "(Activation · Revenue · Referral)\n",
    "\n",
    "PaySim 데이터셋은 원래 **금융 사기(Fraud) 탐지**를 목적으로 설계된 시뮬레이션 데이터다.  \n",
    "여기에 AARRR 프레임워크 일부 단계를 변형 적용하면,  \n",
    "**사용자 행동 기반 Fraud 리스크 탐지**에 활용할 수 있다.  \n",
    "\n",
    "---\n",
    "\n",
    "## 1. Activation (활성화 단계에서의 Fraud)\n",
    "\n",
    "**정의**  \n",
    "- 신규 사용자가 가입 후 첫 거래를 했는가 (`isActivation`)  \n",
    "\n",
    "**Fraud 관점 해석**  \n",
    "- 첫 거래가 Fraud로 발생하는지 여부 확인  \n",
    "- Activation 단계에서 Fraud율이 높으면 \"신규 계정 공격 패턴\"을 의미  \n",
    "\n",
    "**분석 포인트**  \n",
    "- Activation 사용자의 Fraud Rate = `Fraud 거래 수 / Activation 거래 수`  \n",
    "- Activation 그룹 vs 비Activation 그룹 Fraud율 비교  \n",
    "- Activation 첫 거래 금액(`amount`)과 Fraud 발생 패턴  \n",
    "\n",
    "---\n",
    "\n",
    "## 2. Revenue (수익 단계에서의 Fraud)\n",
    "\n",
    "**정의**  \n",
    "- 거래 금액(`amount`)을 Revenue 지표로 가정  \n",
    "\n",
    "**Fraud 관점 해석**  \n",
    "- Fraud 거래가 전체 Revenue에 얼마나 영향을 주는가?  \n",
    "- 건수 비중은 작아도 금액 비중은 큰 경우, \"소수 고액 Fraud\" 가능성  \n",
    "\n",
    "**분석 포인트**  \n",
    "- Fraud 거래 금액 합계 vs 정상 거래 금액 합계  \n",
    "- Fraud 거래 평균 금액 vs 정상 거래 평균 금액  \n",
    "- 거래 유형(`type`)별 Fraud 금액 비중  \n",
    "- Revenue 대비 Fraud 손실 규모 파악  \n",
    "\n",
    "---\n",
    "\n",
    "## 3. Referral (추천 단계에서의 Fraud)\n",
    "\n",
    "**정의**  \n",
    "- 사용자가 추천을 통해 유입되었는가 (`isReferral`)  \n",
    "\n",
    "**Fraud 관점 해석**  \n",
    "- Referral 사용자군이 Fraud 발생에 기여하는가, 아니면 안전한 채널인가?  \n",
    "\n",
    "**분석 포인트**  \n",
    "- Referral 그룹 vs 비Referral 그룹 Fraud 발생률  \n",
    "- Referral 그룹의 평균 거래액 대비 Fraud 금액 비율  \n",
    "- Referral 유입 사용자가 Fraud율이 낮다면, \"Referral 기반 유입 = 신뢰할 수 있는 고객 채널\"로 해석  \n",
    "\n",
    "---\n",
    "\n",
    "## 종합 활용\n",
    "\n",
    "- **Activation 단계** → 신규 계정에서 Fraud 집중 여부 확인 (**신규 계정 리스크**)  \n",
    "- **Revenue 단계** → Fraud가 전체 Revenue에서 차지하는 금액 비중 (**경제적 피해 규모**)  \n",
    "- **Referral 단계** → 추천 채널의 Fraud 안전성 여부 (**채널별 Fraud 리스크**)  \n",
    "\n",
    "Fraud 탐지 목적에서 AARRR 일부를 적용하면,  \n",
    "단순 퍼널 분석이 아니라 **Fraud 발생 패턴을 사용자 행동 기반으로 세분화**하여 볼 수 있다.\n"
   ]
  },
  {
   "cell_type": "markdown",
   "id": "34743efc",
   "metadata": {},
   "source": []
  },
  {
   "cell_type": "code",
   "execution_count": 2,
   "id": "967c034a",
   "metadata": {},
   "outputs": [
    {
     "name": "stdout",
     "output_type": "stream",
     "text": [
      "MySQL 연결 성공\n"
     ]
    }
   ],
   "source": [
    "import pandas as pd\n",
    "import warnings\n",
    "warnings.filterwarnings('ignore')\n",
    "import pymysql\n",
    "from sqlalchemy import create_engine\n",
    "from sqlalchemy import text\n",
    "\n",
    "user = 'root'\n",
    "password = 'doyeon5345'\n",
    "host = 'localhost'\n",
    "port = 3306\n",
    "db = 'paysim'\n",
    "\n",
    "try:\n",
    "    engine = create_engine(f'mysql+pymysql://{user}:{password}@{host}:{port}/{db}')\n",
    "    print(\"MySQL 연결 성공\")\n",
    "except Exception as e:\n",
    "    print(\"연결 실패:\", e)"
   ]
  },
  {
   "cell_type": "markdown",
   "id": "20a42825",
   "metadata": {},
   "source": [
    "### 1️⃣ Activation 단계 Fraud 분석\n",
    "- 신규 계정이 첫 거래(`isActivation=1`)를 했는지 여부 확인\n",
    "- Activation 그룹과 비Activation 그룹의 Fraud 발생률 비교"
   ]
  },
  {
   "cell_type": "code",
   "execution_count": 3,
   "id": "b5cbc517",
   "metadata": {},
   "outputs": [
    {
     "data": {
      "text/html": [
       "<div>\n",
       "<style scoped>\n",
       "    .dataframe tbody tr th:only-of-type {\n",
       "        vertical-align: middle;\n",
       "    }\n",
       "\n",
       "    .dataframe tbody tr th {\n",
       "        vertical-align: top;\n",
       "    }\n",
       "\n",
       "    .dataframe thead th {\n",
       "        text-align: right;\n",
       "    }\n",
       "</style>\n",
       "<table border=\"1\" class=\"dataframe\">\n",
       "  <thead>\n",
       "    <tr style=\"text-align: right;\">\n",
       "      <th></th>\n",
       "      <th>isActivation</th>\n",
       "      <th>total_tx</th>\n",
       "      <th>fraud_tx</th>\n",
       "      <th>fraud_rate_pct</th>\n",
       "    </tr>\n",
       "  </thead>\n",
       "  <tbody>\n",
       "    <tr>\n",
       "      <th>0</th>\n",
       "      <td>0</td>\n",
       "      <td>66954</td>\n",
       "      <td>76.0</td>\n",
       "      <td>0.11</td>\n",
       "    </tr>\n",
       "    <tr>\n",
       "      <th>1</th>\n",
       "      <td>1</td>\n",
       "      <td>48003</td>\n",
       "      <td>95.0</td>\n",
       "      <td>0.20</td>\n",
       "    </tr>\n",
       "  </tbody>\n",
       "</table>\n",
       "</div>"
      ],
      "text/plain": [
       "   isActivation  total_tx  fraud_tx  fraud_rate_pct\n",
       "0             0     66954      76.0            0.11\n",
       "1             1     48003      95.0            0.20"
      ]
     },
     "execution_count": 3,
     "metadata": {},
     "output_type": "execute_result"
    }
   ],
   "source": [
    "# Activation vs Non-Activation Fraud율\n",
    "query = \"\"\"\n",
    "SELECT isActivation,\n",
    "       COUNT(*) AS total_tx,\n",
    "       SUM(isFraud) AS fraud_tx,\n",
    "       ROUND(100.0 * SUM(isFraud)/COUNT(*), 2) AS fraud_rate_pct\n",
    "FROM paysim\n",
    "GROUP BY isActivation;\n",
    "\"\"\"\n",
    "df_activation = pd.read_sql(query, engine)\n",
    "df_activation"
   ]
  },
  {
   "cell_type": "code",
   "execution_count": 4,
   "id": "e10b5d1d",
   "metadata": {},
   "outputs": [
    {
     "data": {
      "image/png": "[encoded data removed]",
      "text/plain": [
       "<Figure size 600x400 with 1 Axes>"
      ]
     },
     "metadata": {},
     "output_type": "display_data"
    }
   ],
   "source": [
    "import matplotlib.pyplot as plt\n",
    "import matplotlib as mpl\n",
    "import seaborn as sns\n",
    "plt.rcParams['font.family'] = 'AppleGothic'   \n",
    "mpl.rcParams['axes.unicode_minus'] = False\n",
    "\n",
    "# Activation vs Fraud Rate\n",
    "plt.figure(figsize=(6,4))\n",
    "sns.barplot(data=df_activation, x=\"isActivation\", y=\"fraud_rate_pct\", palette=\"Blues\")\n",
    "plt.title(\"활성화 여부별 사기 발생률\")\n",
    "plt.xlabel(\"활성화 여부 (0=비활성화, 1=활성화)\")\n",
    "plt.ylabel(\"사기 발생률 (%)\")\n",
    "plt.show()\n"
   ]
  },
  {
   "cell_type": "markdown",
   "id": "e375430c",
   "metadata": {},
   "source": [
    "isActivation=1에서 사기 발생률이 20%로 더 높다. 이는 신규 사용자의 첫 거래가 사기로 이어질 가능성이 크며, 첫 거래 단계에서 강력한 검증이 필요함을 의미한다. "
   ]
  },
  {
   "cell_type": "markdown",
   "id": "f2013ed6",
   "metadata": {},
   "source": [
    "### 2️⃣ Revenue 단계 Fraud 분석\n",
    "- Fraud 거래 금액 합계와 정상 거래 금액 합계 비교\n",
    "- Fraud 거래의 평균 거래 금액 확인\n",
    "- 거래 유형별 Fraud 금액 집중도 확인"
   ]
  },
  {
   "cell_type": "code",
   "execution_count": 5,
   "id": "178d4e93",
   "metadata": {},
   "outputs": [
    {
     "data": {
      "text/html": [
       "<div>\n",
       "<style scoped>\n",
       "    .dataframe tbody tr th:only-of-type {\n",
       "        vertical-align: middle;\n",
       "    }\n",
       "\n",
       "    .dataframe tbody tr th {\n",
       "        vertical-align: top;\n",
       "    }\n",
       "\n",
       "    .dataframe thead th {\n",
       "        text-align: right;\n",
       "    }\n",
       "</style>\n",
       "<table border=\"1\" class=\"dataframe\">\n",
       "  <thead>\n",
       "    <tr style=\"text-align: right;\">\n",
       "      <th></th>\n",
       "      <th>isFraud</th>\n",
       "      <th>total_revenue</th>\n",
       "      <th>avg_amount</th>\n",
       "      <th>tx_count</th>\n",
       "    </tr>\n",
       "  </thead>\n",
       "  <tbody>\n",
       "    <tr>\n",
       "      <th>0</th>\n",
       "      <td>0</td>\n",
       "      <td>2.056378e+10</td>\n",
       "      <td>179148.86</td>\n",
       "      <td>114786</td>\n",
       "    </tr>\n",
       "    <tr>\n",
       "      <th>1</th>\n",
       "      <td>1</td>\n",
       "      <td>2.175259e+08</td>\n",
       "      <td>1272081.27</td>\n",
       "      <td>171</td>\n",
       "    </tr>\n",
       "  </tbody>\n",
       "</table>\n",
       "</div>"
      ],
      "text/plain": [
       "   isFraud  total_revenue  avg_amount  tx_count\n",
       "0        0   2.056378e+10   179148.86    114786\n",
       "1        1   2.175259e+08  1272081.27       171"
      ]
     },
     "execution_count": 5,
     "metadata": {},
     "output_type": "execute_result"
    }
   ],
   "source": [
    "# Fraud vs 정상 거래 Revenue 합계/평균\n",
    "query = \"\"\"\n",
    "SELECT isFraud,\n",
    "       SUM(amount) AS total_revenue,\n",
    "       ROUND(AVG(amount), 2) AS avg_amount,\n",
    "       COUNT(*) AS tx_count\n",
    "FROM paysim\n",
    "GROUP BY isFraud;\n",
    "\"\"\"\n",
    "df_revenue_fraud = pd.read_sql(query, engine)\n",
    "df_revenue_fraud"
   ]
  },
  {
   "cell_type": "code",
   "execution_count": 6,
   "id": "55b0d207",
   "metadata": {},
   "outputs": [
    {
     "data": {
      "image/png": "[encoded data removed]",
      "text/plain": [
       "<Figure size 600x400 with 1 Axes>"
      ]
     },
     "metadata": {},
     "output_type": "display_data"
    }
   ],
   "source": [
    "plt.figure(figsize=(6,4))\n",
    "sns.barplot(data=df_revenue_fraud, x=\"isFraud\", y=\"avg_amount\", palette=\"Reds\")\n",
    "\n",
    "plt.title(\"사기 거래 vs 정상 거래 평균 거래금액 비교\", fontsize=13)\n",
    "plt.xlabel(\"거래 구분 (0=정상, 1=사기)\")\n",
    "plt.ylabel(\"평균 거래금액\")\n",
    "plt.tight_layout()\n",
    "plt.show()"
   ]
  },
  {
   "cell_type": "markdown",
   "id": "42c382c6",
   "metadata": {},
   "source": [
    "정상 거래는 건수·금액 모두 압도적으로 많지만, 사기 거래는 건수는 극히 적어도 평균 거래액이 훨씬 커 경제적 피해 위험이 크다고 해석된다."
   ]
  },
  {
   "cell_type": "code",
   "execution_count": 23,
   "id": "8940a3f7",
   "metadata": {},
   "outputs": [
    {
     "data": {
      "text/html": [
       "<div>\n",
       "<style scoped>\n",
       "    .dataframe tbody tr th:only-of-type {\n",
       "        vertical-align: middle;\n",
       "    }\n",
       "\n",
       "    .dataframe tbody tr th {\n",
       "        vertical-align: top;\n",
       "    }\n",
       "\n",
       "    .dataframe thead th {\n",
       "        text-align: right;\n",
       "    }\n",
       "</style>\n",
       "<table border=\"1\" class=\"dataframe\">\n",
       "  <thead>\n",
       "    <tr style=\"text-align: right;\">\n",
       "      <th></th>\n",
       "      <th>type</th>\n",
       "      <th>fraud_amount</th>\n",
       "      <th>normal_amount</th>\n",
       "      <th>fraud_share_pct</th>\n",
       "    </tr>\n",
       "  </thead>\n",
       "  <tbody>\n",
       "    <tr>\n",
       "      <th>0</th>\n",
       "      <td>TRANSFER</td>\n",
       "      <td>1.264506e+08</td>\n",
       "      <td>8.707487e+09</td>\n",
       "      <td>1.43</td>\n",
       "    </tr>\n",
       "    <tr>\n",
       "      <th>1</th>\n",
       "      <td>CASH_OUT</td>\n",
       "      <td>9.107531e+07</td>\n",
       "      <td>7.060500e+09</td>\n",
       "      <td>1.27</td>\n",
       "    </tr>\n",
       "    <tr>\n",
       "      <th>2</th>\n",
       "      <td>CASH_IN</td>\n",
       "      <td>0.000000e+00</td>\n",
       "      <td>4.286271e+09</td>\n",
       "      <td>0.00</td>\n",
       "    </tr>\n",
       "    <tr>\n",
       "      <th>3</th>\n",
       "      <td>PAYMENT</td>\n",
       "      <td>0.000000e+00</td>\n",
       "      <td>5.042678e+08</td>\n",
       "      <td>0.00</td>\n",
       "    </tr>\n",
       "    <tr>\n",
       "      <th>4</th>\n",
       "      <td>DEBIT</td>\n",
       "      <td>0.000000e+00</td>\n",
       "      <td>5.256050e+06</td>\n",
       "      <td>0.00</td>\n",
       "    </tr>\n",
       "  </tbody>\n",
       "</table>\n",
       "</div>"
      ],
      "text/plain": [
       "       type  fraud_amount  normal_amount  fraud_share_pct\n",
       "0  TRANSFER  1.264506e+08   8.707487e+09             1.43\n",
       "1  CASH_OUT  9.107531e+07   7.060500e+09             1.27\n",
       "2   CASH_IN  0.000000e+00   4.286271e+09             0.00\n",
       "3   PAYMENT  0.000000e+00   5.042678e+08             0.00\n",
       "4     DEBIT  0.000000e+00   5.256050e+06             0.00"
      ]
     },
     "execution_count": 23,
     "metadata": {},
     "output_type": "execute_result"
    }
   ],
   "source": [
    "# 거래 유형별 Fraud 금액 비중\n",
    "query = \"\"\"\n",
    "SELECT type,\n",
    "       SUM(CASE WHEN isFraud=1 THEN amount ELSE 0 END) AS fraud_amount,\n",
    "       SUM(CASE WHEN isFraud=0 THEN amount ELSE 0 END) AS normal_amount,\n",
    "       ROUND(100.0 * SUM(CASE WHEN isFraud=1 THEN amount ELSE 0 END) /\n",
    "             SUM(amount), 2) AS fraud_share_pct\n",
    "FROM paysim\n",
    "GROUP BY type\n",
    "ORDER BY fraud_share_pct DESC;\n",
    "\"\"\"\n",
    "df_rev_type = pd.read_sql(query, engine)\n",
    "df_rev_type\n"
   ]
  },
  {
   "cell_type": "code",
   "execution_count": 36,
   "id": "f80317c3",
   "metadata": {},
   "outputs": [
    {
     "data": {
      "image/png": "[encoded data removed]",
      "text/plain": [
       "<Figure size 800x500 with 1 Axes>"
      ]
     },
     "metadata": {},
     "output_type": "display_data"
    }
   ],
   "source": [
    "plt.figure(figsize=(8,5))\n",
    "sns.barplot(data=df_rev_type, x=\"type\", y=\"fraud_share_pct\", palette=\"Oranges\")\n",
    "plt.title(\"거래 유형별 사기 금액 비중\")\n",
    "plt.xlabel(\"거래 유형\")\n",
    "plt.ylabel(\"사기 금액 비중 (%)\")\n",
    "plt.xticks(rotation=45)\n",
    "plt.show()"
   ]
  },
  {
   "cell_type": "markdown",
   "id": "2ad13b08",
   "metadata": {},
   "source": [
    "사기는 TRANSFER·CASH_OUT 거래에서만 발생하며 각각 전체 금액의 약 1.4%, 1.3%를 차지한다. 나머지 유형은 Fraud가 거의 없어 이 두 유형이 핵심 위험 구간임을 보여준다."
   ]
  },
  {
   "cell_type": "markdown",
   "id": "12388577",
   "metadata": {},
   "source": [
    "### 3️⃣ Referral 단계 Fraud 분석\n",
    "- Referral 사용자 vs 비Referral 사용자 Fraud 발생률 비교\n",
    "- Referral 그룹의 평균 거래 금액 대비 Fraud 금액 차이 확인"
   ]
  },
  {
   "cell_type": "code",
   "execution_count": 24,
   "id": "1aa0492a",
   "metadata": {},
   "outputs": [
    {
     "data": {
      "text/html": [
       "<div>\n",
       "<style scoped>\n",
       "    .dataframe tbody tr th:only-of-type {\n",
       "        vertical-align: middle;\n",
       "    }\n",
       "\n",
       "    .dataframe tbody tr th {\n",
       "        vertical-align: top;\n",
       "    }\n",
       "\n",
       "    .dataframe thead th {\n",
       "        text-align: right;\n",
       "    }\n",
       "</style>\n",
       "<table border=\"1\" class=\"dataframe\">\n",
       "  <thead>\n",
       "    <tr style=\"text-align: right;\">\n",
       "      <th></th>\n",
       "      <th>isReferral</th>\n",
       "      <th>total_tx</th>\n",
       "      <th>fraud_tx</th>\n",
       "      <th>fraud_rate_pct</th>\n",
       "    </tr>\n",
       "  </thead>\n",
       "  <tbody>\n",
       "    <tr>\n",
       "      <th>0</th>\n",
       "      <td>0</td>\n",
       "      <td>109179</td>\n",
       "      <td>163.0</td>\n",
       "      <td>0.15</td>\n",
       "    </tr>\n",
       "    <tr>\n",
       "      <th>1</th>\n",
       "      <td>1</td>\n",
       "      <td>5778</td>\n",
       "      <td>8.0</td>\n",
       "      <td>0.14</td>\n",
       "    </tr>\n",
       "  </tbody>\n",
       "</table>\n",
       "</div>"
      ],
      "text/plain": [
       "   isReferral  total_tx  fraud_tx  fraud_rate_pct\n",
       "0           0    109179     163.0            0.15\n",
       "1           1      5778       8.0            0.14"
      ]
     },
     "execution_count": 24,
     "metadata": {},
     "output_type": "execute_result"
    }
   ],
   "source": [
    "# Referral 그룹 Fraud율\n",
    "query = \"\"\"\n",
    "SELECT isReferral,\n",
    "       COUNT(*) AS total_tx,\n",
    "       SUM(isFraud) AS fraud_tx,\n",
    "       ROUND(100.0 * SUM(isFraud)/COUNT(*), 2) AS fraud_rate_pct\n",
    "FROM paysim\n",
    "GROUP BY isReferral;\n",
    "\"\"\"\n",
    "df_referral = pd.read_sql(query, engine)\n",
    "df_referral\n"
   ]
  },
  {
   "cell_type": "code",
   "execution_count": 37,
   "id": "392fb1cc",
   "metadata": {},
   "outputs": [
    {
     "data": {
      "image/png": "[encoded data removed]",
      "text/plain": [
       "<Figure size 600x400 with 1 Axes>"
      ]
     },
     "metadata": {},
     "output_type": "display_data"
    }
   ],
   "source": [
    "plt.figure(figsize=(6,4))\n",
    "sns.barplot(data=df_referral, x=\"isReferral\", y=\"fraud_rate_pct\", palette=\"Greens\")\n",
    "plt.title(\"추천 여부별 사기 발생률\")\n",
    "plt.xlabel(\"추천 여부 (0=비추천, 1=추천)\")\n",
    "plt.ylabel(\"사기 발생률 (%)\")\n",
    "plt.show()"
   ]
  },
  {
   "cell_type": "markdown",
   "id": "121a8d3f",
   "metadata": {},
   "source": [
    "추천 유입 사용자의 사기 발생률은 0.14%로 비추천 사용자의 0.15%와 사실상 동일하다. 큰 차이는 없지만, 적어도 추천을 통한 유입이 사기 위험을 높이지는 않는 것으로 해석된다."
   ]
  },
  {
   "cell_type": "code",
   "execution_count": 25,
   "id": "d080d2bb",
   "metadata": {},
   "outputs": [
    {
     "data": {
      "text/html": [
       "<div>\n",
       "<style scoped>\n",
       "    .dataframe tbody tr th:only-of-type {\n",
       "        vertical-align: middle;\n",
       "    }\n",
       "\n",
       "    .dataframe tbody tr th {\n",
       "        vertical-align: top;\n",
       "    }\n",
       "\n",
       "    .dataframe thead th {\n",
       "        text-align: right;\n",
       "    }\n",
       "</style>\n",
       "<table border=\"1\" class=\"dataframe\">\n",
       "  <thead>\n",
       "    <tr style=\"text-align: right;\">\n",
       "      <th></th>\n",
       "      <th>isReferral</th>\n",
       "      <th>avg_amount</th>\n",
       "      <th>avg_fraud_amount</th>\n",
       "    </tr>\n",
       "  </thead>\n",
       "  <tbody>\n",
       "    <tr>\n",
       "      <th>0</th>\n",
       "      <td>0</td>\n",
       "      <td>181058.66</td>\n",
       "      <td>1297327.94</td>\n",
       "    </tr>\n",
       "    <tr>\n",
       "      <th>1</th>\n",
       "      <td>1</td>\n",
       "      <td>175407.23</td>\n",
       "      <td>757680.30</td>\n",
       "    </tr>\n",
       "  </tbody>\n",
       "</table>\n",
       "</div>"
      ],
      "text/plain": [
       "   isReferral  avg_amount  avg_fraud_amount\n",
       "0           0   181058.66        1297327.94\n",
       "1           1   175407.23         757680.30"
      ]
     },
     "execution_count": 25,
     "metadata": {},
     "output_type": "execute_result"
    }
   ],
   "source": [
    "# Referral 그룹 평균 거래액과 Fraud 거래액\n",
    "query = \"\"\"\n",
    "SELECT isReferral,\n",
    "       ROUND(AVG(amount), 2) AS avg_amount,\n",
    "       ROUND(AVG(CASE WHEN isFraud=1 THEN amount END), 2) AS avg_fraud_amount\n",
    "FROM paysim\n",
    "GROUP BY isReferral;\n",
    "\"\"\"\n",
    "df_referral_amt = pd.read_sql(query, engine)\n",
    "df_referral_amt\n"
   ]
  },
  {
   "cell_type": "code",
   "execution_count": 38,
   "id": "f3be1489",
   "metadata": {},
   "outputs": [
    {
     "data": {
      "image/png": "[encoded data removed]",
      "text/plain": [
       "<Figure size 600x400 with 1 Axes>"
      ]
     },
     "metadata": {},
     "output_type": "display_data"
    }
   ],
   "source": [
    "plt.figure(figsize=(6,4))\n",
    "df_referral_amt_melt = df_referral_amt.melt(id_vars=\"isReferral\", \n",
    "                                            value_vars=[\"avg_amount\",\"avg_fraud_amount\"],\n",
    "                                            var_name=\"지표\", value_name=\"금액\")\n",
    "\n",
    "sns.barplot(data=df_referral_amt_melt, x=\"isReferral\", y=\"금액\", hue=\"지표\", palette=\"Set2\")\n",
    "plt.title(\"추천 여부별 평균 거래액과 사기 거래액\")\n",
    "plt.xlabel(\"추천 여부 (0=비추천, 1=추천)\")\n",
    "plt.ylabel(\"평균 금액\")\n",
    "plt.show()\n"
   ]
  },
  {
   "cell_type": "markdown",
   "id": "543dd483",
   "metadata": {},
   "source": [
    "평균 거래액은 추천(175,407)과 비추천(181,059)에서 큰 차이가 없음.\n",
    "\n",
    "그러나 사기 거래 평균액은 비추천(약 129만) > 추천(약 76만)으로 훨씬 크다.\n",
    "\n",
    "👉 결론: 추천을 통한 유입 사용자는 정상 거래 규모는 비슷하지만, 사기 거래 금액이 더 작아 상대적으로 피해 위험이 낮다고 볼 수 있다."
   ]
  }
 ],
 "metadata": {
  "kernelspec": {
   "display_name": "base",
   "language": "python",
   "name": "python3"
  },
  "language_info": {
   "codemirror_mode": {
    "name": "ipython",
    "version": 3
   },
   "file_extension": ".py",
   "mimetype": "text/x-python",
   "name": "python",
   "nbconvert_exporter": "python",
   "pygments_lexer": "ipython3",
   "version": "3.12.7"
  }
 },
 "nbformat": 4,
 "nbformat_minor": 5
}
